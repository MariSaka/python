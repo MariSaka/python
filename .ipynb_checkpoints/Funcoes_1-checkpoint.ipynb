{
 "cells": [
  {
   "cell_type": "code",
   "execution_count": null,
   "id": "8583da89",
   "metadata": {},
   "outputs": [],
   "source": [
    "#funções exercicio 1 https://www.pythonprogressivo.net/2018/06/Lista-Exercicios-Lacos-Looping-Python.html"
   ]
  },
  {
   "cell_type": "code",
   "execution_count": null,
   "id": "6d4811a4",
   "metadata": {},
   "outputs": [],
   "source": [
    "# Faça um programa que peça uma nota, entre zero e dez. Mostre uma mensagem caso o valor seja inválido e continue pedindo até que o usuário informe um valor válido.\n",
    "nota = int(input(\"Atribua uma nota de zero a dez \"))\n",
    "while nota > 10:\n",
    "    nota = int(input(\"Valor invalido, tente outro \"))\n",
    "else:\n",
    "    print(\"Fim\")"
   ]
  },
  {
   "cell_type": "raw",
   "id": "9e961ec0",
   "metadata": {},
   "source": [
    "Temos que criar um script que fique sempre repetindo, pedindo a nota correta, caso ela seja errada. Quantas vezes ? Pra sempre?\n",
    "Ou seja...pede...testa...não validou? Pede de novo...testa...não validou? Roda de novo.\n",
    "\n",
    "Isso te lembra algo? Sim, laço WHILE, ele que teste algo e roda enquanto o teste for verdadeiro!\n",
    "\n",
    "Nosso código fica:\n",
    "\n",
    "\n",
    "nota = float(input(\"Insira uma nota 0 até 10: \"))\n",
    "\n",
    "while (nota < 0) or (nota > 10):\n",
    "    nota = float(input(\"Não pode ser menor que 0 ou maior que 10 meu jovem!\\n \\\n",
    "    Tente novamente:\"))\n",
    "print(\"Nota válida\")"
   ]
  },
  {
   "cell_type": "code",
   "execution_count": null,
   "id": "166f731c",
   "metadata": {},
   "outputs": [],
   "source": [
    "# Faça um programa que leia um nome de usuário e a sua senha e não aceite a senha igual ao nome do usuário, mostrando uma mensagem de erro e voltando a pedir as informações.\n",
    "while True:\n",
    "    nome = input(\"Nome: \")\n",
    "    senha = input(\"Senha: \")\n",
    "    \n",
    "    if nome == senha:\n",
    "        print(\"erro: Senha não pode ser igual ao nome, tente oura\")\n",
    "    else:\n",
    "        print(\"ok\")\n",
    "        break\n",
    "    print(\"loop\")\n",
    "        \n",
    "print(\"fim\")"
   ]
  },
  {
   "cell_type": "raw",
   "id": "9cde243f",
   "metadata": {},
   "source": [
    "A lógica é a mesma da questão anterior, porém, aqui, a gente vai comparar strings (vamos estudar elas mais a fundo em breve). Bacana que essa lógica é bem usada na vida real.\n",
    "\n",
    "Vários sites, programas etc, não aceitam você ter mesmo login e senha\n",
    "Veja que no decorrer de nosso Curso de Python, nossos programas vão se tornando cada vez mais realistas:\n",
    "\n",
    "login = input(\"Login: \")\n",
    "senha = input(\"Senha: \")\n",
    "\n",
    "while login == senha:\n",
    "    print(\"Sua senha deve ser diferente do login: \")\n",
    "    senha = input(\"Senha: \")\n",
    "\n",
    "print(\"Cadastro aprovado\")"
   ]
  },
  {
   "cell_type": "code",
   "execution_count": null,
   "id": "ab42db26",
   "metadata": {},
   "outputs": [],
   "source": [
    "# Faça um programa que leia e valide as seguintes informações:\n",
    "# Nome: maior que 3 caracteres;\n",
    "# Idade: entre 0 e 150;\n",
    "# Salário: maior que zero;\n",
    "# Sexo: 'f' ou 'm';\n",
    "# Estado Civil: 's', 'c', 'v', 'd';\n",
    "# Use a função len(string) para saber o tamanho de um texto (número de caracteres).\n",
    "\n",
    "nome = input(\"nome: \")\n",
    "idade = int(input(\"idade: \"))\n",
    "salario = float(input(\"salario: \"))\n",
    "sexo = input(\"sexo: \")\n",
    "estado_civil = input(\"estado civil: \")\n",
    "\n",
    "while len(nome) <= 3:\n",
    "    nome = input(\"nome no mínimo 4 caracteres: \")\n",
    "    \n",
    "while (idade < 0) or (idade > 150):\n",
    "    idade = int(input(\"numero ente 0 e 150: \"))\n",
    "    \n",
    "while salario < 0:\n",
    "    salario = float(input(\"salario maior que 0: \"))\n",
    "    \n",
    "while (sexo != 'f') and (sexo != 'm'):\n",
    "    sexo = input(\"sexo somente f (feminino) ou m (masculino): \")\n",
    "    \n",
    "while estado_civil not in(\"s\", \"c\", \"v\", \"d\"):\n",
    "    estado_civil = input(\"estado civil (s = solteiro, c = casado, v = viuvo, d = divorciado): \")\n",
    "\n",
    "    "
   ]
  },
  {
   "cell_type": "raw",
   "id": "87e98383",
   "metadata": {},
   "source": [
    "Use a função len(string) para saber o tamanho de um texto (número de caracteres).\n",
    "Inicialmente, pedimos as 5 informações ao usuário (sempre informe como deve ser essa informação que ele deve fornecer, o seu formato, para ele informar corretamente).\n",
    "\n",
    "Depois, vamos usando 5 loopings WHILE para nos certificar se ele forneceu os dados corretos. Vejam como ficou nosso script em Python:\n",
    "\n",
    "nome = input(\"Qual seu nome [minimo 4 caracteres]: \")\n",
    "idade = int(input(\"Sua idade: \"))\n",
    "salario = float(input(\"Salário: \"))\n",
    "sexo = input(\"Sexo ('f' para feminino ou 'm' para masculino): \")\n",
    "civil = input(\"Estado civil (s, c, v ou d): \")\n",
    "\n",
    "while len(nome) <= 3:\n",
    "    nome = input(\"Seu nome deve ter mais que 3 caracteres: \")\n",
    "\n",
    "while (idade < 0) or (idade > 150):\n",
    "    idade = int(input(\"Voce deve ter entre 0 e 150 anos: \"))\n",
    "\n",
    "while (salario<0):\n",
    "    salario = float(input(\"A coisa ta difícil, mas não tem salário negativo: \"))\n",
    "\n",
    "while (sexo!= 'f') and (sexo!='m'):\n",
    "    sexo = input(\"Biologicamente, você deve ser 'f' ou 'm': \")\n",
    "\n",
    "while (civil!='s')and(civil!='c')and(civil!='v')and(civil!='d'):\n",
    "    print(\"Nao tem estado civil 'confuso'\")\n",
    "    civil = input(\"Deve ser s, c, v ou d: \")\n"
   ]
  },
  {
   "cell_type": "code",
   "execution_count": 14,
   "id": "578f8a5f",
   "metadata": {},
   "outputs": [
    {
     "name": "stdout",
     "output_type": "stream",
     "text": [
      "206437.95102318263\n",
      "3000.0\n",
      "18\n"
     ]
    }
   ],
   "source": [
    "#Supondo que a população de um país A seja da ordem de 80000 habitantes com uma taxa anual de crescimento de 3% \n",
    "# e que a população de B seja 200000 habitantes com uma taxa de crescimento de 1.5%. \n",
    "#Faça um programa que calcule e escreva o número de anos necessários para que a população do país A ultrapasse ou iguale a população do país B, \n",
    "#mantidas as taxas de crescimento.\n",
    "\n",
    "A_habitantes = 80000\n",
    "B_habitantes = 200000\n",
    "\n",
    "A_taxa_de_crescimento = 3\n",
    "B_taxa_de_crescimento = 1.5\n",
    "\n",
    "anos_para_igualar = 0\n",
    "\n",
    "while A_habitantes < b_habitantes:\n",
    "    crescimento_em_um_ano = (A_habitantes * A_taxa_de_crescimento)/100\n",
    "    A_habitantes = A_habitantes + crescimento_em_um_ano\n",
    "\n",
    "    crescimento_em_um_ano = (B_habitantes * B_taxa_de_crescimento)/100\n",
    "    A_habitantes = A_habitantes + crescimento_em_um_ano\n",
    "\n",
    "    anos_para_igualar = anos_para_igualar + 1\n",
    "\n",
    "print(A_habitantes )\n",
    "print(crescimento_em_um_ano)\n",
    "print(anos_para_igualar)"
   ]
  },
  {
   "cell_type": "code",
   "execution_count": null,
   "id": "187478a0",
   "metadata": {},
   "outputs": [],
   "source": [
    "#Desenvolva um gerador de tabuada, capaz de gerar a tabuada de qualquer número inteiro entre 1 a 10. \n",
    "#O usuário deve informar de qual numero ele deseja ver a tabuada. \n",
    "#A saída deve ser conforme o exemplo abaixo:\n",
    "\n",
    "tabuada = int(input('Tabuada do número'))\n",
    "for count in range(10)"
   ]
  },
  {
   "cell_type": "code",
   "execution_count": null,
   "id": "499d224d",
   "metadata": {},
   "outputs": [],
   "source": []
  }
 ],
 "metadata": {
  "kernelspec": {
   "display_name": "Python 3 (ipykernel)",
   "language": "python",
   "name": "python3"
  },
  "language_info": {
   "codemirror_mode": {
    "name": "ipython",
    "version": 3
   },
   "file_extension": ".py",
   "mimetype": "text/x-python",
   "name": "python",
   "nbconvert_exporter": "python",
   "pygments_lexer": "ipython3",
   "version": "3.10.9"
  }
 },
 "nbformat": 4,
 "nbformat_minor": 5
}
